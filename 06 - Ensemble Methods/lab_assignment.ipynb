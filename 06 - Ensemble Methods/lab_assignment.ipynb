{
  "nbformat": 4,
  "nbformat_minor": 0,
  "metadata": {
    "colab": {
      "provenance": []
    },
    "kernelspec": {
      "name": "python3",
      "display_name": "Python 3"
    },
    "language_info": {
      "name": "python"
    }
  },
  "cells": [
    {
      "cell_type": "code",
      "source": [
        "import pandas as pd\n",
        "from sklearn.model_selection import train_test_split, GridSearchCV\n",
        "from sklearn.ensemble import RandomForestClassifier\n",
        "from sklearn.tree import DecisionTreeClassifier\n",
        "from sklearn.metrics import accuracy_score\n",
        "\n",
        "# Load the data\n",
        "mushrooms = pd.read_csv('mushrooms.csv')\n",
        "\n",
        "# Preprocess the data\n",
        "X = mushrooms.drop('class', axis=1)\n",
        "y = mushrooms['class']\n",
        "X = pd.get_dummies(X)\n",
        "\n",
        "# Split the data into training and testing sets\n",
        "X_train, X_test, y_train, y_test = train_test_split(X, y, test_size=0.2, random_state=42)\n",
        "\n",
        "# Hyperparameter tuning for Decision Tree\n",
        "dt_params = {'max_depth': [3, 5, 7, 9]}\n",
        "dt_grid = GridSearchCV(DecisionTreeClassifier(), dt_params, cv=5)\n",
        "dt_grid.fit(X_train, y_train)\n",
        "\n",
        "# Hyperparameter tuning for Random Forest\n",
        "rf_params = {'n_estimators': [50, 100, 150], 'max_depth': [3, 5, 7, 9]}\n",
        "rf_grid = GridSearchCV(RandomForestClassifier(), rf_params, cv=5)\n",
        "rf_grid.fit(X_train, y_train)\n",
        "\n",
        "# Compare accuracies\n",
        "dt_acc = accuracy_score(y_test, dt_grid.predict(X_test))\n",
        "rf_acc = accuracy_score(y_test, rf_grid.predict(X_test))\n",
        "\n",
        "print(f\"Decision Tree accuracy: {dt_acc:.4f}\")\n",
        "print(f\"Random Forest accuracy: {rf_acc:.4f}\")\n"
      ],
      "metadata": {
        "colab": {
          "base_uri": "https://localhost:8080/"
        },
        "id": "DJdBoQg5aj0T",
        "outputId": "b51bea75-96ab-4851-9915-359087416924"
      },
      "execution_count": 1,
      "outputs": [
        {
          "output_type": "stream",
          "name": "stdout",
          "text": [
            "Decision Tree accuracy: 1.0000\n",
            "Random Forest accuracy: 1.0000\n"
          ]
        }
      ]
    },
    {
      "cell_type": "code",
      "source": [
        "from sklearn.ensemble import AdaBoostClassifier\n",
        "\n",
        "# Hyperparameter tuning for AdaBoost\n",
        "adaboost_params = {'n_estimators': [50, 100, 150], 'learning_rate': [0.01, 0.1, 1.0]}\n",
        "adaboost_grid = GridSearchCV(AdaBoostClassifier(), adaboost_params, cv=5)\n",
        "adaboost_grid.fit(X_train, y_train)\n",
        "\n",
        "# Compare accuracies\n",
        "adaboost_acc = accuracy_score(y_test, adaboost_grid.predict(X_test))\n",
        "\n",
        "print(f\"Decision Tree accuracy: {dt_acc:.4f}\")\n",
        "print(f\"AdaBoost accuracy: {adaboost_acc:.4f}\")\n"
      ],
      "metadata": {
        "colab": {
          "base_uri": "https://localhost:8080/"
        },
        "id": "A-UFTkAjanr4",
        "outputId": "e879c6b1-7110-4615-b390-b6617ffac7dc"
      },
      "execution_count": 2,
      "outputs": [
        {
          "output_type": "stream",
          "name": "stdout",
          "text": [
            "Decision Tree accuracy: 1.0000\n",
            "AdaBoost accuracy: 1.0000\n"
          ]
        }
      ]
    },
    {
      "cell_type": "code",
      "source": [
        "from sklearn.linear_model import LogisticRegression\n",
        "from sklearn.svm import SVC\n",
        "from sklearn.ensemble import VotingClassifier\n",
        "from sklearn.metrics import accuracy_score\n",
        "from sklearn.datasets import load_diabetes\n",
        "from sklearn.model_selection import train_test_split\n",
        "from sklearn.metrics import mean_squared_error\n",
        "\n",
        "# Load the diabetes dataset\n",
        "diabetes = load_diabetes()\n",
        "X, y = diabetes.data, diabetes.target\n",
        "\n",
        "# Split the data into training and testing sets\n",
        "X_train, X_test, y_train, y_test = train_test_split(X, y, test_size=0.2, random_state=42)\n",
        "\n",
        "# Define the models\n",
        "log_reg = LogisticRegression()\n",
        "svm_poly = SVC(kernel='poly')\n",
        "decision_tree = DecisionTreeClassifier()\n",
        "\n",
        "# Create the ensemble model\n",
        "ensemble = VotingClassifier(estimators=[('lr', log_reg), ('svm', svm_poly), ('dt', decision_tree)], voting='hard')\n",
        "\n",
        "# Train the ensemble model\n",
        "ensemble.fit(X_train, y_train)\n",
        "\n",
        "# Evaluate the ensemble model using mean squared error\n",
        "y_pred = ensemble.predict(X_test)\n",
        "mse = mean_squared_error(y_test, y_pred)\n",
        "print(f\"Ensemble Mean Squared Error: {mse:.4f}\")\n",
        "\n"
      ],
      "metadata": {
        "colab": {
          "base_uri": "https://localhost:8080/"
        },
        "id": "trJmYIlfaxpE",
        "outputId": "4db80ed9-f6f4-4c3a-9873-3dc58558af9d"
      },
      "execution_count": 4,
      "outputs": [
        {
          "output_type": "stream",
          "name": "stdout",
          "text": [
            "Ensemble Mean Squared Error: 6476.7528\n"
          ]
        }
      ]
    },
    {
      "cell_type": "code",
      "source": [],
      "metadata": {
        "id": "PoJzrORibNFS"
      },
      "execution_count": 3,
      "outputs": []
    }
  ]
}